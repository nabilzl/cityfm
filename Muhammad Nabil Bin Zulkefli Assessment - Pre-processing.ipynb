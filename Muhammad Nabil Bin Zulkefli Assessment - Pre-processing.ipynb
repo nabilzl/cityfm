{
 "cells": [
  {
   "cell_type": "markdown",
   "id": "5d3e2de0-370d-441f-b5ca-f9fb9a29ada3",
   "metadata": {},
   "source": [
    "# Muhammad Nabil Bin Zulkefli - City FM Data Analyst Assessment 19th July 2024"
   ]
  },
  {
   "cell_type": "markdown",
   "id": "61040d88-a194-48ee-aeaf-d0304fd4ad6d",
   "metadata": {},
   "source": [
    "## Data Pre-Processing"
   ]
  },
  {
   "cell_type": "code",
   "execution_count": null,
   "id": "e0152d09-8971-4394-8950-900a10236ae3",
   "metadata": {},
   "outputs": [],
   "source": [
    "import pandas as pd"
   ]
  },
  {
   "cell_type": "code",
   "execution_count": null,
   "id": "66f0183e-2588-461c-86d0-797d66a0fb31",
   "metadata": {},
   "outputs": [],
   "source": [
    "raw_data = pd.read_csv('/Users/nabilzl/Documents/Nabil/Career/Latest/Companies/City FM/rawdata.csv')"
   ]
  },
  {
   "cell_type": "code",
   "execution_count": null,
   "id": "8bd5e584-500b-4b7f-89b1-7cd26e8bcfc6",
   "metadata": {},
   "outputs": [],
   "source": [
    "raw_data.head()"
   ]
  },
  {
   "cell_type": "code",
   "execution_count": null,
   "id": "4ef2acd7-30be-4f4b-85be-724dd306d47a",
   "metadata": {},
   "outputs": [],
   "source": [
    "df = raw_data.copy()"
   ]
  },
  {
   "cell_type": "code",
   "execution_count": null,
   "id": "d2abb9eb-819e-422b-8c62-b498474e87ee",
   "metadata": {},
   "outputs": [],
   "source": [
    "year = []\n",
    "month = []\n",
    "dayoftheweek = []"
   ]
  },
  {
   "cell_type": "code",
   "execution_count": null,
   "id": "a6109248-11ce-4371-90b8-38d227448f9a",
   "metadata": {},
   "outputs": [],
   "source": [
    "df['datetime'] = pd.to_datetime(df['datetime'], format='%d/%m/%Y %H:%M:%S')"
   ]
  },
  {
   "cell_type": "code",
   "execution_count": null,
   "id": "f23261f6-b7d3-494d-bff1-5a06cf8b5e4e",
   "metadata": {},
   "outputs": [],
   "source": [
    "for n in range(df.shape[0]):\n",
    "    year.append(df['datetime'][n].year)\n",
    "    month.append(df['datetime'][n].month)\n",
    "    dayoftheweek.append(df['datetime'][n].weekday())"
   ]
  },
  {
   "cell_type": "code",
   "execution_count": null,
   "id": "41cd269f-d116-426c-9f2f-f17f2ec52057",
   "metadata": {},
   "outputs": [],
   "source": [
    "df['year'] = year\n",
    "df['month'] = month\n",
    "df['dayoftheweek'] = dayoftheweek"
   ]
  },
  {
   "cell_type": "code",
   "execution_count": null,
   "id": "eccbafd7-a5f5-4d03-9d2a-feac676bb8a7",
   "metadata": {},
   "outputs": [],
   "source": [
    "df_date_mod = df.copy()"
   ]
  },
  {
   "cell_type": "code",
   "execution_count": null,
   "id": "ebbe01fc-5e56-4c3c-ae17-5ce5c352dd64",
   "metadata": {},
   "outputs": [],
   "source": [
    "peaktime= []"
   ]
  },
  {
   "cell_type": "code",
   "execution_count": null,
   "id": "706b22a1-8c22-413a-bae7-db66d0471c95",
   "metadata": {},
   "outputs": [],
   "source": [
    "for n in range(df_date_mod.shape[0]):\n",
    "    if df_date_mod['month'][n] >= 3 and df_date_mod['month'][n] <= 11:\n",
    "        if df_date_mod['dayoftheweek'][n] >= 0 and df_date_mod['dayoftheweek'][n] <= 4:\n",
    "            if str(df_date_mod['datetime'][n].time()) > '14:59::00' and str(df_date_mod['datetime'][n].time()) < '21:01:00':\n",
    "                peaktime.append(1)\n",
    "            else:\n",
    "                peaktime.append(0)\n",
    "        else:\n",
    "            peaktime.append(0)\n",
    "    else:\n",
    "        peaktime.append(0)"
   ]
  },
  {
   "cell_type": "code",
   "execution_count": null,
   "id": "d67c286b-d781-4a54-8ff9-3bc45d01e2ee",
   "metadata": {},
   "outputs": [],
   "source": [
    "df_date_mod['peaktime'] = peaktime"
   ]
  },
  {
   "cell_type": "code",
   "execution_count": null,
   "id": "3d0e3996-ba90-4f79-bc23-d67a69dc6ba9",
   "metadata": {},
   "outputs": [],
   "source": [
    "df_mod = df_date_mod.copy()"
   ]
  },
  {
   "cell_type": "code",
   "execution_count": null,
   "id": "735f3b1d-e1d3-476c-aa74-5c57fcbd9856",
   "metadata": {
    "scrolled": true
   },
   "outputs": [],
   "source": [
    "df_mod.columns"
   ]
  },
  {
   "cell_type": "code",
   "execution_count": null,
   "id": "78aeda46-b3c0-4082-b925-4d4759a1f759",
   "metadata": {},
   "outputs": [],
   "source": [
    "update_column = ['datetime', 'year', 'month', 'dayoftheweek', 'kWh', 'kVA Demand', 'peaktime']"
   ]
  },
  {
   "cell_type": "code",
   "execution_count": null,
   "id": "532e9036-10cd-4d06-9c90-f808e32b287d",
   "metadata": {},
   "outputs": [],
   "source": [
    "df_mod = df_mod[update_column]"
   ]
  },
  {
   "cell_type": "code",
   "execution_count": null,
   "id": "4714d2c5-d322-4d0c-a25a-a95de32dec89",
   "metadata": {},
   "outputs": [],
   "source": [
    "df_mod.to_excel('data_modified.xlsx')"
   ]
  },
  {
   "cell_type": "code",
   "execution_count": null,
   "id": "5b01cf11-c6a6-46ae-b426-01f643f1c694",
   "metadata": {},
   "outputs": [],
   "source": [
    "ea305_n_e_p_w_gst = []\n",
    "ea305_n_e_p_wo_gst = []\n",
    "ea310_n_e_p_w_gst = []\n",
    "ea310_n_e_p_wo_gst = []"
   ]
  },
  {
   "cell_type": "code",
   "execution_count": null,
   "id": "aa0610c3-deac-495b-b325-cf7f23204325",
   "metadata": {},
   "outputs": [],
   "source": [
    "for i in range(df_mod.shape[0]):\n",
    "    if df_mod['peaktime'][i] == 1:\n",
    "        ea305_n_e_p_w_gst.append(df_mod['kWh'][i]*0.075655)\n",
    "        ea305_n_e_p_wo_gst.append(df_mod['kWh'][i]*0.068777)\n",
    "        ea310_n_e_p_w_gst.append(df_mod['kWh'][i]*0.057380)\n",
    "        ea310_n_e_p_wo_gst.append(df_mod['kWh'][i]*0.052164)\n",
    "    else:\n",
    "        ea305_n_e_p_w_gst.append(df_mod['kWh'][i]*0.016754)\n",
    "        ea305_n_e_p_wo_gst.append(df_mod['kWh'][i]*0.015231)\n",
    "        ea310_n_e_p_w_gst.append(df_mod['kWh'][i]*0.015640)\n",
    "        ea310_n_e_p_wo_gst.append(df_mod['kWh'][i]*0.014218)"
   ]
  },
  {
   "cell_type": "code",
   "execution_count": null,
   "id": "f794eb67-e3a1-42f6-a21e-83a5b09e7622",
   "metadata": {},
   "outputs": [],
   "source": [
    "df_mod['EA305_NEP_w_gst'] = ea305_n_e_p_w_gst\n",
    "df_mod['EA305_NEP_wo_gst'] = ea305_n_e_p_wo_gst\n",
    "df_mod['EA310_NEP_w_gst'] = ea310_n_e_p_w_gst\n",
    "df_mod['EA310_NEP_wo_gst'] = ea310_n_e_p_wo_gst"
   ]
  },
  {
   "cell_type": "code",
   "execution_count": null,
   "id": "1810d75d-2cca-4e36-b48c-024bda56c491",
   "metadata": {},
   "outputs": [],
   "source": [
    "ea305_supply_charge_w_gst = []\n",
    "ea305_supply_charge_wo_gst = []\n",
    "ea310_supply_charge_w_gst = []\n",
    "ea310_supply_charge_wo_gst = []"
   ]
  },
  {
   "cell_type": "code",
   "execution_count": null,
   "id": "a27e0b31-59e2-4c5a-8f39-5ee3c8cbea6c",
   "metadata": {},
   "outputs": [],
   "source": [
    "for i in range(df_mod.shape[0]):\n",
    "    ea305_supply_charge_w_gst.append(df_mod['kVA Demand'][i]*0.543839)\n",
    "    ea310_supply_charge_w_gst.append(df_mod['kVA Demand'][i]*0.567816)\n",
    "    ea305_supply_charge_wo_gst.append(df_mod['kVA Demand'][i]*0.494399)\n",
    "    ea310_supply_charge_wo_gst.append(df_mod['kVA Demand'][i]*0.516195)"
   ]
  },
  {
   "cell_type": "code",
   "execution_count": null,
   "id": "78da538f-eeb8-465b-80e2-6c5bb86e65ab",
   "metadata": {},
   "outputs": [],
   "source": [
    "df_mod['EA305_supp_charge_w_gst'] = ea305_supply_charge_w_gst\n",
    "df_mod['EA305_supp_charge_wo_gst'] = ea305_supply_charge_wo_gst\n",
    "df_mod['EA310_supp_charge_w_gst'] = ea310_supply_charge_w_gst\n",
    "df_mod['EA310_supp_charge_wo_gst'] = ea310_supply_charge_wo_gst"
   ]
  },
  {
   "cell_type": "code",
   "execution_count": null,
   "id": "539acc54-58d8-4f5e-a7e6-6b0fc8fe966e",
   "metadata": {},
   "outputs": [],
   "source": [
    "df_mod2 = df_mod.copy()"
   ]
  },
  {
   "cell_type": "code",
   "execution_count": null,
   "id": "b1292435-b71d-4c1a-83eb-7b401f0801ad",
   "metadata": {},
   "outputs": [],
   "source": [
    "df_mod2.to_excel('data_modified.xlsx')"
   ]
  },
  {
   "cell_type": "markdown",
   "id": "e20587df-0ed6-4c20-ad24-6983bed1af80",
   "metadata": {},
   "source": [
    "## Network Energy Price Calculation"
   ]
  },
  {
   "cell_type": "code",
   "execution_count": null,
   "id": "a2b179f0-5726-4236-a132-c683629d35ca",
   "metadata": {},
   "outputs": [],
   "source": [
    "date = []\n",
    "tariff = []\n",
    "cat = ['ea305','ea310']"
   ]
  },
  {
   "cell_type": "code",
   "execution_count": null,
   "id": "d85eaf1c-6b05-4786-b34f-1f084230592e",
   "metadata": {},
   "outputs": [],
   "source": [
    "for j in range(2):\n",
    "    for i in range(len(pd.to_datetime(df_mod2['datetime']).dt.date.unique())):\n",
    "        date.append(pd.to_datetime(df_mod2['datetime']).dt.date.unique()[i])\n",
    "        tariff.append(cat[j])"
   ]
  },
  {
   "cell_type": "code",
   "execution_count": null,
   "id": "8e27f14c-1741-4c73-9ce5-bdee8c4bfdcd",
   "metadata": {},
   "outputs": [],
   "source": [
    "df_calculation = pd.DataFrame()"
   ]
  },
  {
   "cell_type": "code",
   "execution_count": null,
   "id": "71aab5fe-2021-49f9-ba79-5242df8adfbf",
   "metadata": {},
   "outputs": [],
   "source": [
    "df_calculation['date'] = date\n",
    "df_calculation['tariff'] = tariff"
   ]
  },
  {
   "cell_type": "code",
   "execution_count": null,
   "id": "81bbd9f4-e8e8-4f3f-8417-f3ed0709f916",
   "metadata": {
    "scrolled": true
   },
   "outputs": [],
   "source": [
    "df_calculation = df_calculation.sort_values(by=['date','tariff'], ignore_index=True)"
   ]
  },
  {
   "cell_type": "code",
   "execution_count": null,
   "id": "9a698629-d798-4ef4-a17f-8632c83a1834",
   "metadata": {},
   "outputs": [],
   "source": [
    "peak_dollar_w_gst = []\n",
    "peak_dollar_wo_gst = []\n",
    "peak_consumption = []\n",
    "offpeak_consumption = []\n",
    "offpeak_dollar_w_gst = []\n",
    "offpeak_dollar_wo_gst = []\n",
    "\n",
    "peak_con_sum = 0.00\n",
    "offpeak_con_sum = 0.00\n",
    "peak_gst_dollar_sum = 0.00\n",
    "peak_non_gst_dollar_sum = 0.00\n",
    "offpeak_gst_dollar_sum = 0.00\n",
    "offpeak_non_gst_dollar_sum = 0.00"
   ]
  },
  {
   "cell_type": "code",
   "execution_count": null,
   "id": "85b0f050-5d20-4513-bc0d-1b79080d82d3",
   "metadata": {},
   "outputs": [],
   "source": [
    "for i in range(df_calculation.shape[0]):\n",
    "    for j in range(df_mod2.shape[0]):\n",
    "        if df_calculation['date'][i] == pd.to_datetime(df_mod2['datetime'][j]).date():\n",
    "            if df_calculation['tariff'][i] == 'ea305':\n",
    "                if df_mod2['peaktime'][j] == 1:\n",
    "                    peak_con_sum += df_mod2['kWh'][j]\n",
    "                    peak_gst_dollar_sum += df_mod2['kWh'][j]*0.075655\n",
    "                    peak_non_gst_dollar_sum += df_mod2['kWh'][j]*0.068777\n",
    "                else:\n",
    "                    offpeak_con_sum += df_mod2['kWh'][j]\n",
    "                    offpeak_gst_dollar_sum += df_mod2['kWh'][j]*0.016754\n",
    "                    offpeak_non_gst_dollar_sum += df_mod2['kWh'][j]*0.015321\n",
    "            else:\n",
    "                if df_mod2['peaktime'][j] == 1:\n",
    "                    peak_con_sum += df_mod2['kWh'][j]\n",
    "                    peak_gst_dollar_sum += df_mod2['kWh'][j]*0.057380\n",
    "                    peak_non_gst_dollar_sum += df_mod2['kWh'][j]*0.052164\n",
    "                else:\n",
    "                    offpeak_con_sum += df_mod2['kWh'][j]\n",
    "                    offpeak_gst_dollar_sum += df_mod2['kWh'][j]*0.015640\n",
    "                    offpeak_non_gst_dollar_sum += df_mod2['kWh'][j]*0.014218\n",
    "    \n",
    "    peak_consumption.append(round(peak_con_sum,2))\n",
    "    offpeak_consumption.append(round(offpeak_con_sum,2))    \n",
    "    peak_dollar_w_gst.append(round(peak_gst_dollar_sum,2))\n",
    "    peak_dollar_wo_gst.append(round(peak_non_gst_dollar_sum,2))\n",
    "    offpeak_dollar_w_gst.append(round(offpeak_gst_dollar_sum,2))\n",
    "    offpeak_dollar_wo_gst.append(round(offpeak_non_gst_dollar_sum,2))\n",
    "    peak_con_sum = 0.00\n",
    "    peak_gst_dollar_sum = 0.00\n",
    "    peak_non_gst_dollar_sum = 0.00\n",
    "    offpeak_con_sum = 0.00\n",
    "    offpeak_gst_dollar_sum = 0.00\n",
    "    offpeak_non_gst_dollar_sum = 0.00"
   ]
  },
  {
   "cell_type": "code",
   "execution_count": null,
   "id": "7566120c-a841-4289-a5f0-ac85f3b587e7",
   "metadata": {},
   "outputs": [],
   "source": [
    "df_calculation['peak_consumption'] = peak_consumption\n",
    "df_calculation['peak_dollar_w_gst'] = peak_dollar_w_gst\n",
    "df_calculation['peak_dollar_wo_gst'] = peak_dollar_wo_gst\n",
    "df_calculation['offpeak_consumption'] = offpeak_consumption\n",
    "df_calculation['offpeak_dollar_w_gst'] = offpeak_dollar_w_gst\n",
    "df_calculation['offpeak_dollar_wo_gst'] = offpeak_dollar_wo_gst"
   ]
  },
  {
   "cell_type": "code",
   "execution_count": null,
   "id": "4b2265ac-9a28-424d-b0d4-95ad764c3330",
   "metadata": {},
   "outputs": [],
   "source": [
    "df_calculation.to_excel('df_calculation.xlsx')"
   ]
  },
  {
   "cell_type": "markdown",
   "id": "901c1ba3-9637-4c7d-b188-891b12f53a17",
   "metadata": {},
   "source": [
    "## Capacity Charge Calculation"
   ]
  },
  {
   "cell_type": "code",
   "execution_count": null,
   "id": "bbad6ba2-dbdd-4f61-baa3-0de5a179d945",
   "metadata": {},
   "outputs": [],
   "source": [
    "capacity_charge_w_gst = []\n",
    "capacity_charge_wo_gst = []\n",
    "kVA_demand = []\n",
    "\n",
    "kVA = 0.00\n",
    "gst_sum_charge = 0.00\n",
    "non_gst_sum_charge = 0.00"
   ]
  },
  {
   "cell_type": "code",
   "execution_count": null,
   "id": "e69adf77-252f-43d8-8cd0-b264a487c957",
   "metadata": {},
   "outputs": [],
   "source": [
    "highest_peak_kVA = df_mod2['kVA Demand'][0]\n",
    "\n",
    "for i in range(df_calculation.shape[0]):\n",
    "    for j in range(df_mod2.shape[0]):\n",
    "        if df_calculation['date'][i] == pd.to_datetime(df_mod2['datetime'][j]).date():\n",
    "            if df_mod2['peaktime'][j] == 1:\n",
    "                if df_mod2['kVA Demand'][j] > highest_peak_kVA:\n",
    "                    highest_peak_kVA = df_mod2['kVA Demand'][j]\n",
    "                    \n",
    "    kVA_demand.append(round(highest_peak_kVA,2))\n",
    "    if df_calculation['tariff'][i] == 'ea305':\n",
    "        capacity_charge_w_gst.append(round(highest_peak_kVA*0.543839,2))\n",
    "        capacity_charge_wo_gst.append(round(highest_peak_kVA*0.494399,2))\n",
    "    else:\n",
    "        capacity_charge_w_gst.append(round(highest_peak_kVA*0.567815,2))\n",
    "        capacity_charge_wo_gst.append(round(highest_peak_kVA*0.516195,2))"
   ]
  },
  {
   "cell_type": "code",
   "execution_count": null,
   "id": "aeafdd52-a11f-4072-82ea-b39951ca9913",
   "metadata": {},
   "outputs": [],
   "source": [
    "df_calculation['kVA_demand'] = kVA_demand\n",
    "df_calculation['capacity_charge_w_gst'] = capacity_charge_w_gst\n",
    "df_calculation['capacity_charge_wo_gst'] = capacity_charge_wo_gst"
   ]
  },
  {
   "cell_type": "code",
   "execution_count": null,
   "id": "9f49a54b-a03f-447d-834d-114f21aba149",
   "metadata": {},
   "outputs": [],
   "source": [
    "df_calculation.to_excel('df_calculation.xlsx')"
   ]
  },
  {
   "cell_type": "markdown",
   "id": "51e0d9d4-1cb7-47fe-9b09-a360f3d7a2c9",
   "metadata": {},
   "source": [
    "## Supply Charge Calculation"
   ]
  },
  {
   "cell_type": "code",
   "execution_count": null,
   "id": "f56a5bd0-621d-4190-a892-c1fe62b1e67f",
   "metadata": {},
   "outputs": [],
   "source": [
    "supply_charge_w_gst = []\n",
    "supply_charge_wo_gst = []"
   ]
  },
  {
   "cell_type": "code",
   "execution_count": null,
   "id": "9e88926c-0e0d-4c12-846c-6da7ce04814d",
   "metadata": {},
   "outputs": [],
   "source": [
    "for i in range(df_calculation.shape[0]):\n",
    "    if df_calculation['tariff'][i] == 'ea305':\n",
    "        supply_charge_w_gst.append(round(22.517477,2))\n",
    "        supply_charge_wo_gst.append(round(20.470434,2))\n",
    "    else:\n",
    "        supply_charge_w_gst.append(round(45.222690,2))\n",
    "        supply_charge_wo_gst.append(round(41.111536,2))"
   ]
  },
  {
   "cell_type": "code",
   "execution_count": null,
   "id": "5506edfb-6e23-47e0-b0db-68a9e8bdce87",
   "metadata": {},
   "outputs": [],
   "source": [
    "df_calculation['supply_charge_w_gst'] = supply_charge_w_gst\n",
    "df_calculation['supply_charge_wo_gst'] = supply_charge_wo_gst"
   ]
  },
  {
   "cell_type": "code",
   "execution_count": null,
   "id": "4fde0f14-54ff-45b8-bd73-06b5617f1c48",
   "metadata": {},
   "outputs": [],
   "source": [
    "df_calculation.to_excel('data_processed.xlsx')"
   ]
  }
 ],
 "metadata": {
  "kernelspec": {
   "display_name": "Python 3 (ipykernel)",
   "language": "python",
   "name": "python3"
  },
  "language_info": {
   "codemirror_mode": {
    "name": "ipython",
    "version": 3
   },
   "file_extension": ".py",
   "mimetype": "text/x-python",
   "name": "python",
   "nbconvert_exporter": "python",
   "pygments_lexer": "ipython3",
   "version": "3.12.4"
  }
 },
 "nbformat": 4,
 "nbformat_minor": 5
}
